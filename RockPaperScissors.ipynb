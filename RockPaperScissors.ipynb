{
 "cells": [
  {
   "cell_type": "code",
   "execution_count": 15,
   "metadata": {
    "scrolled": false
   },
   "outputs": [
    {
     "name": "stdout",
     "output_type": "stream",
     "text": [
      "What is your name player 1? Frank\n",
      "What is your name player 2? Kev\n",
      "Frank, Player 1, do you want to choose rock, paper or scissors? scissors\n",
      "Kev, Player 2, do you want to choose rock, paper or scissors? paper\n",
      "Scissors win!\n"
     ]
    }
   ],
   "source": [
    "#Rock Paper Scissors Code\n",
    "\n",
    "import sys\n",
    "\n",
    "#Players input their names\n",
    "player1 = input(\"What is your name player 1? \")\n",
    "player2 = input(\"What is your name player 2? \")\n",
    "\n",
    "#Players input their choices\n",
    "player1answer = input(\"%s, Player 1, do you want to choose rock, paper or scissors? \" % player1)\n",
    "player2answer = input(\"%s, Player 2, do you want to choose rock, paper or scissors? \" % player2)\n",
    "\n",
    "#Code compares answers\n",
    "def compare(play1, play2):\n",
    "    \n",
    "    #Tie \n",
    "    if play1 == play2:\n",
    "        return(\"We have a tie!\")\n",
    "    \n",
    "    #Rock vs. Scissors\n",
    "    elif play1 == 'rock':\n",
    "        if play2 == 'scissors':\n",
    "            return(\"Rock wins!\")\n",
    "        else:\n",
    "            return(\"Paper wins!\")\n",
    "        \n",
    "    #Scissors vs. Paper\n",
    "    elif play1 == 'scissors':\n",
    "        if play2 == 'paper':\n",
    "            return(\"Scissors win!\")\n",
    "        else:\n",
    "            return(\"Rock wins!\")\n",
    "            \n",
    "    #Paper vs. Rock\n",
    "    elif play1 == 'paper':\n",
    "        if play2 == 'rock':\n",
    "            return(\"Paper win!\")\n",
    "        else:\n",
    "            return(\"Scissors win!\")\n",
    "            \n",
    "    else:\n",
    "        return(\"Invalid input yo! You must enter rock, paper or scissors!\")\n",
    "        sys.exit()\n",
    "            \n",
    "print(compare(player1answer, player2answer))\n",
    "\n",
    "\n",
    "#Used as practice from redice99 \n",
    "#<script src=\"https://gist.github.com/redice99/21ceca1561519f5a12bc.js\"></script>"
   ]
  }
 ],
 "metadata": {
  "kernelspec": {
   "display_name": "Python 3",
   "language": "python",
   "name": "python3"
  },
  "language_info": {
   "codemirror_mode": {
    "name": "ipython",
    "version": 3
   },
   "file_extension": ".py",
   "mimetype": "text/x-python",
   "name": "python",
   "nbconvert_exporter": "python",
   "pygments_lexer": "ipython3",
   "version": "3.6.1"
  }
 },
 "nbformat": 4,
 "nbformat_minor": 2
}
